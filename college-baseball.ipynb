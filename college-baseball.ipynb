{
 "cells": [
  {
   "cell_type": "code",
   "execution_count": 1,
   "id": "7a05c925",
   "metadata": {
    "execution": {
     "iopub.execute_input": "2024-05-15T20:35:04.497401Z",
     "iopub.status.busy": "2024-05-15T20:35:04.496624Z",
     "iopub.status.idle": "2024-05-15T20:35:05.675375Z",
     "shell.execute_reply": "2024-05-15T20:35:05.673944Z"
    },
    "papermill": {
     "duration": 1.18798,
     "end_time": "2024-05-15T20:35:05.678778",
     "exception": false,
     "start_time": "2024-05-15T20:35:04.490798",
     "status": "completed"
    },
    "tags": []
   },
   "outputs": [],
   "source": [
    "import pandas as pd\n",
    "import requests\n",
    "from bs4 import BeautifulSoup"
   ]
  },
  {
   "cell_type": "code",
   "execution_count": 2,
   "id": "ba0449ce",
   "metadata": {
    "execution": {
     "iopub.execute_input": "2024-05-15T20:35:05.688834Z",
     "iopub.status.busy": "2024-05-15T20:35:05.688265Z",
     "iopub.status.idle": "2024-05-15T20:35:05.693627Z",
     "shell.execute_reply": "2024-05-15T20:35:05.692425Z"
    },
    "papermill": {
     "duration": 0.012996,
     "end_time": "2024-05-15T20:35:05.696033",
     "exception": false,
     "start_time": "2024-05-15T20:35:05.683037",
     "status": "completed"
    },
    "tags": []
   },
   "outputs": [],
   "source": [
    "url = (\"https://www.ncaa.com/rankings/baseball/d1/rpi\")"
   ]
  },
  {
   "cell_type": "code",
   "execution_count": 3,
   "id": "75e31bdf",
   "metadata": {
    "execution": {
     "iopub.execute_input": "2024-05-15T20:35:05.706038Z",
     "iopub.status.busy": "2024-05-15T20:35:05.705590Z",
     "iopub.status.idle": "2024-05-15T20:35:05.960290Z",
     "shell.execute_reply": "2024-05-15T20:35:05.959030Z"
    },
    "papermill": {
     "duration": 0.263446,
     "end_time": "2024-05-15T20:35:05.963410",
     "exception": false,
     "start_time": "2024-05-15T20:35:05.699964",
     "status": "completed"
    },
    "tags": []
   },
   "outputs": [],
   "source": [
    "data = requests.get(url)"
   ]
  },
  {
   "cell_type": "code",
   "execution_count": 4,
   "id": "7202bf96",
   "metadata": {
    "execution": {
     "iopub.execute_input": "2024-05-15T20:35:05.973399Z",
     "iopub.status.busy": "2024-05-15T20:35:05.972395Z",
     "iopub.status.idle": "2024-05-15T20:35:06.136126Z",
     "shell.execute_reply": "2024-05-15T20:35:06.135064Z"
    },
    "papermill": {
     "duration": 0.171383,
     "end_time": "2024-05-15T20:35:06.138629",
     "exception": false,
     "start_time": "2024-05-15T20:35:05.967246",
     "status": "completed"
    },
    "tags": []
   },
   "outputs": [],
   "source": [
    "soup = BeautifulSoup(data.text, \"lxml\")"
   ]
  },
  {
   "cell_type": "code",
   "execution_count": 5,
   "id": "bc357302",
   "metadata": {
    "execution": {
     "iopub.execute_input": "2024-05-15T20:35:06.148062Z",
     "iopub.status.busy": "2024-05-15T20:35:06.147664Z",
     "iopub.status.idle": "2024-05-15T20:35:06.154118Z",
     "shell.execute_reply": "2024-05-15T20:35:06.153224Z"
    },
    "papermill": {
     "duration": 0.013553,
     "end_time": "2024-05-15T20:35:06.156129",
     "exception": false,
     "start_time": "2024-05-15T20:35:06.142576",
     "status": "completed"
    },
    "tags": []
   },
   "outputs": [],
   "source": [
    "#getting table from the website\n",
    "\n",
    "table = soup.find(\"table\", class_ = \"sticky\")"
   ]
  },
  {
   "cell_type": "code",
   "execution_count": 6,
   "id": "5580015c",
   "metadata": {
    "execution": {
     "iopub.execute_input": "2024-05-15T20:35:06.166065Z",
     "iopub.status.busy": "2024-05-15T20:35:06.165373Z",
     "iopub.status.idle": "2024-05-15T20:35:06.174817Z",
     "shell.execute_reply": "2024-05-15T20:35:06.173647Z"
    },
    "papermill": {
     "duration": 0.016825,
     "end_time": "2024-05-15T20:35:06.176920",
     "exception": false,
     "start_time": "2024-05-15T20:35:06.160095",
     "status": "completed"
    },
    "tags": []
   },
   "outputs": [],
   "source": [
    "headers = table.find_all(\"th\")"
   ]
  },
  {
   "cell_type": "code",
   "execution_count": 7,
   "id": "2d98a2ef",
   "metadata": {
    "execution": {
     "iopub.execute_input": "2024-05-15T20:35:06.186575Z",
     "iopub.status.busy": "2024-05-15T20:35:06.185915Z",
     "iopub.status.idle": "2024-05-15T20:35:06.190351Z",
     "shell.execute_reply": "2024-05-15T20:35:06.189588Z"
    },
    "papermill": {
     "duration": 0.011771,
     "end_time": "2024-05-15T20:35:06.192515",
     "exception": false,
     "start_time": "2024-05-15T20:35:06.180744",
     "status": "completed"
    },
    "tags": []
   },
   "outputs": [],
   "source": [
    "# print (headers)"
   ]
  },
  {
   "cell_type": "code",
   "execution_count": 8,
   "id": "f0459598",
   "metadata": {
    "execution": {
     "iopub.execute_input": "2024-05-15T20:35:06.202078Z",
     "iopub.status.busy": "2024-05-15T20:35:06.201431Z",
     "iopub.status.idle": "2024-05-15T20:35:06.206930Z",
     "shell.execute_reply": "2024-05-15T20:35:06.205835Z"
    },
    "papermill": {
     "duration": 0.01294,
     "end_time": "2024-05-15T20:35:06.209191",
     "exception": false,
     "start_time": "2024-05-15T20:35:06.196251",
     "status": "completed"
    },
    "tags": []
   },
   "outputs": [],
   "source": [
    "titles = []\n",
    "\n",
    "for i in headers:\n",
    "    title = i.text\n",
    "    titles.append(title)"
   ]
  },
  {
   "cell_type": "code",
   "execution_count": 9,
   "id": "3a49329a",
   "metadata": {
    "execution": {
     "iopub.execute_input": "2024-05-15T20:35:06.219239Z",
     "iopub.status.busy": "2024-05-15T20:35:06.218106Z",
     "iopub.status.idle": "2024-05-15T20:35:06.228474Z",
     "shell.execute_reply": "2024-05-15T20:35:06.227281Z"
    },
    "papermill": {
     "duration": 0.018111,
     "end_time": "2024-05-15T20:35:06.231082",
     "exception": false,
     "start_time": "2024-05-15T20:35:06.212971",
     "status": "completed"
    },
    "tags": []
   },
   "outputs": [],
   "source": [
    "df = pd.DataFrame(columns = titles)"
   ]
  },
  {
   "cell_type": "code",
   "execution_count": 10,
   "id": "02706f3c",
   "metadata": {
    "execution": {
     "iopub.execute_input": "2024-05-15T20:35:06.240520Z",
     "iopub.status.busy": "2024-05-15T20:35:06.240094Z",
     "iopub.status.idle": "2024-05-15T20:35:06.249521Z",
     "shell.execute_reply": "2024-05-15T20:35:06.248416Z"
    },
    "papermill": {
     "duration": 0.01712,
     "end_time": "2024-05-15T20:35:06.252004",
     "exception": false,
     "start_time": "2024-05-15T20:35:06.234884",
     "status": "completed"
    },
    "tags": []
   },
   "outputs": [],
   "source": [
    "rows = table.find_all(\"tr\")\n"
   ]
  },
  {
   "cell_type": "code",
   "execution_count": 11,
   "id": "e2b1b643",
   "metadata": {
    "execution": {
     "iopub.execute_input": "2024-05-15T20:35:06.260906Z",
     "iopub.status.busy": "2024-05-15T20:35:06.260471Z",
     "iopub.status.idle": "2024-05-15T20:35:06.606007Z",
     "shell.execute_reply": "2024-05-15T20:35:06.604647Z"
    },
    "papermill": {
     "duration": 0.35286,
     "end_time": "2024-05-15T20:35:06.608608",
     "exception": false,
     "start_time": "2024-05-15T20:35:06.255748",
     "status": "completed"
    },
    "tags": []
   },
   "outputs": [],
   "source": [
    "for i in rows[1:]:\n",
    "    data = i.find_all(\"td\")\n",
    "    row = [tr.text for tr in data]\n",
    "    l = len(df)\n",
    "    df.loc[l] = row"
   ]
  },
  {
   "cell_type": "code",
   "execution_count": 12,
   "id": "d1ee9930",
   "metadata": {
    "execution": {
     "iopub.execute_input": "2024-05-15T20:35:06.617871Z",
     "iopub.status.busy": "2024-05-15T20:35:06.617470Z",
     "iopub.status.idle": "2024-05-15T20:35:06.632534Z",
     "shell.execute_reply": "2024-05-15T20:35:06.631230Z"
    },
    "papermill": {
     "duration": 0.022664,
     "end_time": "2024-05-15T20:35:06.635115",
     "exception": false,
     "start_time": "2024-05-15T20:35:06.612451",
     "status": "completed"
    },
    "tags": []
   },
   "outputs": [
    {
     "name": "stdout",
     "output_type": "stream",
     "text": [
      "    Rank Previous            School Conference Record  Road Neutral  Home  \\\n",
      "0      1        1          Kentucky        SEC  37-11  16-5     2-1  19-5   \n",
      "1      2        2         Texas A&M        SEC  42-10   9-8     3-0  30-2   \n",
      "2      3        3           Georgia        SEC  38-12   8-9     2-0  28-3   \n",
      "3      4        4          Arkansas        SEC  42-10   6-6     3-1  33-3   \n",
      "4      5        5    North Carolina        ACC  39-11   7-7     0-2  32-2   \n",
      "..   ...      ...               ...        ...    ...   ...     ...   ...   \n",
      "300  301      301       Norfolk St.        NEC  12-38  5-15     0-0  7-23   \n",
      "301  302      302  Mississippi Val.       SWAC   6-30  4-18     0-0  2-12   \n",
      "302  303      303            Alcorn       SWAC   6-39  3-24     0-3  3-12   \n",
      "303  304      304   Ark.-Pine Bluff       SWAC   9-33  3-13     0-1  6-19   \n",
      "304  305      305              UMES        NEC   0-45  0-34     0-0  0-11   \n",
      "\n",
      "    Non Div I  \n",
      "0         0-0  \n",
      "1         0-0  \n",
      "2         0-0  \n",
      "3         0-0  \n",
      "4         0-0  \n",
      "..        ...  \n",
      "300       0-0  \n",
      "301       5-2  \n",
      "302       0-1  \n",
      "303       6-0  \n",
      "304       0-0  \n",
      "\n",
      "[305 rows x 9 columns]\n"
     ]
    }
   ],
   "source": [
    "print (df)"
   ]
  },
  {
   "cell_type": "code",
   "execution_count": 13,
   "id": "1bbbd452",
   "metadata": {
    "execution": {
     "iopub.execute_input": "2024-05-15T20:35:06.644288Z",
     "iopub.status.busy": "2024-05-15T20:35:06.643916Z",
     "iopub.status.idle": "2024-05-15T20:35:06.654384Z",
     "shell.execute_reply": "2024-05-15T20:35:06.653323Z"
    },
    "papermill": {
     "duration": 0.017837,
     "end_time": "2024-05-15T20:35:06.656842",
     "exception": false,
     "start_time": "2024-05-15T20:35:06.639005",
     "status": "completed"
    },
    "tags": []
   },
   "outputs": [],
   "source": [
    "df.to_csv(\"College_Baseball.csv\", index = False)"
   ]
  }
 ],
 "metadata": {
  "kaggle": {
   "accelerator": "none",
   "dataSources": [],
   "dockerImageVersionId": 30698,
   "isGpuEnabled": false,
   "isInternetEnabled": true,
   "language": "python",
   "sourceType": "notebook"
  },
  "kernelspec": {
   "display_name": "Python 3",
   "language": "python",
   "name": "python3"
  },
  "language_info": {
   "codemirror_mode": {
    "name": "ipython",
    "version": 3
   },
   "file_extension": ".py",
   "mimetype": "text/x-python",
   "name": "python",
   "nbconvert_exporter": "python",
   "pygments_lexer": "ipython3",
   "version": "3.10.13"
  },
  "papermill": {
   "default_parameters": {},
   "duration": 5.946895,
   "end_time": "2024-05-15T20:35:07.182232",
   "environment_variables": {},
   "exception": null,
   "input_path": "__notebook__.ipynb",
   "output_path": "__notebook__.ipynb",
   "parameters": {},
   "start_time": "2024-05-15T20:35:01.235337",
   "version": "2.5.0"
  }
 },
 "nbformat": 4,
 "nbformat_minor": 5
}
